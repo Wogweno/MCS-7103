{
  "metadata": {
    "kernelspec": {
      "name": "python",
      "display_name": "Python (Pyodide)",
      "language": "python"
    },
    "language_info": {
      "codemirror_mode": {
        "name": "python",
        "version": 3
      },
      "file_extension": ".py",
      "mimetype": "text/x-python",
      "name": "python",
      "nbconvert_exporter": "python",
      "pygments_lexer": "ipython3",
      "version": "3.8"
    }
  },
  "nbformat_minor": 4,
  "nbformat": 4,
  "cells": [
    {
      "cell_type": "markdown",
      "source": "## EDA - Retail Banking Data",
      "metadata": {}
    },
    {
      "cell_type": "markdown",
      "source": "# Dataset contents\n\n   [1.completedacct.csv](#completedacct.csv)\n\n   [2.completedcard.csv](#completedcard.csv)\n\n   [3.completedclient.csv](#completedclient.csv)\n\n   [4.completeddisposition.csv](#completeddisposition.csv)\n\n   [5.completeddistrict.csv](#completeddistrict.csv)\n\n   [6.completedloan.csv](#completedloan.csv](#)\n\n   [7.completedorder.csv](#completedorder.csv)\n\n   [8.crm_call_center_logs.csv](#crm_call_center_logs.csv)\n      \n   [9.crm_events.csv](#crm_events.csv)\n\n   [10.crm_reviews.csv](#crm_reviews.csv)\n\n   [11.luxuryloanportfolio.csv](#Dataset)\n",
      "metadata": {}
    },
    {
      "cell_type": "code",
      "source": "",
      "metadata": {
        "trusted": true
      },
      "outputs": [],
      "execution_count": null
    },
    {
      "cell_type": "code",
      "source": "pip install autopep\n!pip install missingno\nimport missingno as msno\nimport pandas as pd\nimport seaborn as sns\nimport matplotlib.pyplot as plt\n\n# 1.completedacct.csv dataset\ndf = pd.read_csv('https://raw.githubusercontent.com/wogweno/MCS-7103/main/Retail%20Banking/data/raw/1.completedacct.csv')\ndf.info()\ndf.duplicated().sum()\ndf.drop('year', axis='columns', inplace=True)\ndf.drop('month', axis='columns', inplace=True)\ndf.drop('day', axis='columns', inplace=True)\ndf.drop('parseddate', axis='columns', inplace=True)\ndf.head()\n\n",
      "metadata": {
        "trusted": true
      },
      "outputs": [],
      "execution_count": null
    },
    {
      "cell_type": "code",
      "source": "",
      "metadata": {
        "trusted": true
      },
      "outputs": [],
      "execution_count": null
    },
    {
      "cell_type": "code",
      "source": "pip install autopep\n!pip install missingno\nimport missingno as msno\nimport pandas as pd\nimport seaborn as sns\nimport matplotlib.pyplot as plt\n\n# 2.completedcard.csv dataset\ndf = pd.read_csv('https://raw.githubusercontent.com/wogweno/MCS-7103/main/Retail%20Banking/data/raw/2.completedcard.csv')\ndf.info()\ndf.drop('year', axis='columns', inplace=True)\ndf.drop('month', axis='columns', inplace=True)\ndf.drop('day', axis='columns', inplace=True)\ndf.drop('fulldate', axis='columns', inplace=True)\ndf.head()\n",
      "metadata": {
        "trusted": true
      },
      "outputs": [],
      "execution_count": null
    },
    {
      "cell_type": "code",
      "source": "",
      "metadata": {
        "trusted": true
      },
      "outputs": [],
      "execution_count": null
    },
    {
      "cell_type": "code",
      "source": "pip install autopep\n!pip install missingno\nimport missingno as msno\nimport pandas as pd\nimport seaborn as sns\nimport matplotlib.pyplot as plt\n\n# 3.completedclient dataset\ndf = pd.read_csv('https://raw.githubusercontent.com/wogweno/MCS-7103/main/Retail%20Banking/data/raw/3.completedclient.csv')\nprint(round(df.isnull().sum()/len(df) * 100, 1))\ndf.drop('address_2', axis='columns', inplace=True)\ndf.info()\ndf.drop('day', axis='columns', inplace=True)\ndf.drop('month', axis='columns', inplace=True)\ndf.drop('year', axis='columns', inplace=True)\ndf.head()",
      "metadata": {
        "trusted": true
      },
      "outputs": [],
      "execution_count": null
    },
    {
      "cell_type": "code",
      "source": "",
      "metadata": {
        "trusted": true
      },
      "outputs": [],
      "execution_count": null
    },
    {
      "cell_type": "code",
      "source": "pip install autopep\n!pip install missingno\nimport missingno as msno\nimport pandas as pd\nimport seaborn as sns\nimport matplotlib.pyplot as plt\n\n# 4.completeddisposition.csv dataset\ndf = pd.read_csv('https://raw.githubusercontent.com/wogweno/MCS-7103/main/Retail%20Banking/data/raw/4.completeddisposition.csv')\ndf.info()\ndf.duplicated().sum()\ndf.hist()",
      "metadata": {
        "trusted": true
      },
      "outputs": [],
      "execution_count": null
    },
    {
      "cell_type": "code",
      "source": "",
      "metadata": {
        "trusted": true
      },
      "outputs": [],
      "execution_count": null
    },
    {
      "cell_type": "code",
      "source": "pip install autopep\n!pip install missingno\nimport missingno as msno\nimport pandas as pd\nimport seaborn as sns\nimport matplotlib.pyplot as plt\n\n# 5.completeddistrict.csv dataset\ndf = pd.read_csv('https://raw.githubusercontent.com/wogweno/MCS-7103/main/Retail%20Banking/data/raw/5.completeddistrict.csv')\ndf.info()\ndf.duplicated().sum()",
      "metadata": {
        "trusted": true
      },
      "outputs": [],
      "execution_count": null
    },
    {
      "cell_type": "code",
      "source": "",
      "metadata": {
        "trusted": true
      },
      "outputs": [],
      "execution_count": null
    },
    {
      "cell_type": "code",
      "source": "pip install autopep\n!pip install missingno\nimport missingno as msno\nimport pandas as pd\nimport seaborn as sns\nimport matplotlib.pyplot as plt\n\n# 7.completedorder.csv with mode\ndf = pd.read_csv('https://raw.githubusercontent.com/wogweno/MCS-7103/main/Retail%20Banking/data/raw/7.completedorder.csv')\ndf['k_symbol'].fillna(df['k_symbol'].mode()[0], inplace=True)\ndf.info()\n",
      "metadata": {
        "trusted": true
      },
      "outputs": [],
      "execution_count": null
    },
    {
      "cell_type": "code",
      "source": "",
      "metadata": {
        "trusted": true
      },
      "outputs": [],
      "execution_count": null
    },
    {
      "cell_type": "code",
      "source": "pip install autopep\n!pip install missingno\nimport missingno as msno\nimport pandas as pd\nimport seaborn as sns\nimport matplotlib.pyplot as plt\n\n# 8.crm_call_center_logs.csv dataset\ndf = pd.read_csv('https://raw.githubusercontent.com/wogweno/MCS-7103/main/Retail%20Banking/data/raw/8.crm_call_center_logs.csv')\nprint(round(df.isnull().sum()/len(df) * 100, 1))\ndf['complaint_id'].fillna(df['complaint_id'].mode()[0], inplace=True)\ndf['rand_client'].fillna(df['rand_client'].mode()[0], inplace=True)\ndf['vru_line'].fillna(df['vru_line'].mode()[0], inplace=True)\ndf['call_id'].fillna(df['call_id'].mode()[0], inplace=True)\ndf['priority'].fillna(df['priority'].mode()[0], inplace=True)\ndf['type'].fillna(df['type'].mode()[0], inplace=True)\ndf['outcome'].fillna(df['outcome'].mode()[0], inplace=True)\ndf['server'].fillna(df['server'].mode()[0], inplace=True)\ndf.info()",
      "metadata": {
        "trusted": true
      },
      "outputs": [],
      "execution_count": null
    },
    {
      "cell_type": "code",
      "source": "",
      "metadata": {
        "trusted": true
      },
      "outputs": [],
      "execution_count": null
    },
    {
      "cell_type": "code",
      "source": "# Cleaning 9.crm_events.csv dataset\ndf = pd.read_csv('https://raw.githubusercontent.com/wogweno/MCS-7103/main/Retail%20Banking/data/raw/9.crm_events.csv')\nprint(round(df.isnull().sum()/len(df) * 100, 1))\ndf['sub_product'].fillna(df['sub_product'].mode()[0], inplace=True)\ndf.drop('sub_issue', axis='columns', inplace=True)\ndf.drop('consumer_complaint_narrative', axis='columns', inplace=True)\ndf.drop('tags', axis='columns', inplace=True)\ndf.drop('consumer_consent_provided', axis='columns', inplace=True)\ndf['consumer_disputed'].fillna(df['consumer_disputed'].mode()[0], inplace=True)\ndf.info()\n",
      "metadata": {
        "trusted": true
      },
      "outputs": [],
      "execution_count": null
    },
    {
      "cell_type": "code",
      "source": "",
      "metadata": {
        "trusted": true
      },
      "outputs": [],
      "execution_count": null
    },
    {
      "cell_type": "code",
      "source": "pip install autopep\n!pip install missingno\nimport missingno as msno\nimport pandas as pd\nimport seaborn as sns\nimport matplotlib.pyplot as plt\n\n# 3.completedclient dataset\ndf = pd.read_csv('https://raw.githubusercontent.com/wogweno/MCS-7103/main/Retail%20Banking/data/raw/3.completedclient.csv')\nprint(round(df.isnull().sum()/len(df) * 100, 1))\ndf.drop('address_2', axis='columns', inplace=True)\ndf.info()",
      "metadata": {
        "trusted": true
      },
      "outputs": [],
      "execution_count": null
    },
    {
      "cell_type": "code",
      "source": "",
      "metadata": {
        "trusted": true
      },
      "outputs": [],
      "execution_count": null
    },
    {
      "cell_type": "code",
      "source": "pip install autopep\n!pip install missingno\nimport missingno as msno\nimport pandas as pd\nimport seaborn as sns\nimport matplotlib.pyplot as plt\n\n# 11.luxuryloanportfolio.csv dataset\ndf = pd.read_csv('https://raw.githubusercontent.com/wogweno/MCS-7103/main/Retail%20Banking/data/raw/11.luxuryloanportfolio.csv')\ndf.info()\ndf.duplicated().sum()",
      "metadata": {
        "trusted": true
      },
      "outputs": [],
      "execution_count": null
    },
    {
      "cell_type": "code",
      "source": "",
      "metadata": {
        "trusted": true
      },
      "outputs": [],
      "execution_count": null
    }
  ]
}